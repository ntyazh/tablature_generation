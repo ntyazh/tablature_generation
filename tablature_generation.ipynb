{
 "cells": [
  {
   "cell_type": "code",
   "execution_count": 1,
   "metadata": {
    "id": "R3Ng9ZrVn-U1"
   },
   "outputs": [
    {
     "name": "stderr",
     "output_type": "stream",
     "text": [
      "/home/natalia/.local/lib/python3.8/site-packages/torch/cuda/__init__.py:138: UserWarning: CUDA initialization: The NVIDIA driver on your system is too old (found version 11040). Please update your GPU driver by downloading and installing a new version from the URL: http://www.nvidia.com/Download/index.aspx Alternatively, go to: https://pytorch.org to install a PyTorch version that has been compiled with your version of the CUDA driver. (Triggered internally at ../c10/cuda/CUDAFunctions.cpp:108.)\n",
      "  return torch._C._cuda_getDeviceCount() > 0\n"
     ]
    }
   ],
   "source": [
    "import guitarpro as gp\n",
    "import mgzip\n",
    "import pickle\n",
    "import copy\n",
    "\n",
    "from sklearn.model_selection import train_test_split\n",
    "import torch\n",
    "from torch.utils.data import DataLoader\n",
    "from torch import nn\n",
    "import numpy as np\n",
    "\n",
    "from dataset import Note, NotesDataset\n",
    "from model import CustomTransformer\n",
    "from training import train\n",
    "from inference import inference_model, decompose_note, split_by_measures\n",
    "from downloading import Song"
   ]
  },
  {
   "cell_type": "markdown",
   "metadata": {
    "id": "7kEy4YdQy-jK"
   },
   "source": [
    "# Loading data"
   ]
  },
  {
   "cell_type": "code",
   "execution_count": 2,
   "metadata": {
    "id": "o3_I2uXg8lVF"
   },
   "outputs": [],
   "source": [
    "device = torch.device('cuda' if torch.cuda.is_available() else 'cpu')\n",
    "torch.manual_seed(0)\n",
    "MIDI  = {str(gp.GuitarString(number=0, value=val)) : val for val in range(128)}\n",
    "standard_tuning = {1: MIDI['E4'], 2: MIDI['B3'], 3: MIDI['G3'], 4: MIDI['D3'], 5: MIDI['A2'], 6: MIDI['E2']}"
   ]
  },
  {
   "cell_type": "code",
   "execution_count": 3,
   "metadata": {
    "id": "eECXRfcbHtYZ"
   },
   "outputs": [],
   "source": [
    "with mgzip.open('notes_data.pickle.gz', 'rb') as filepath:\n",
    "    notes = pickle.load(filepath)\n",
    "    note_to_int = pickle.load(filepath)\n",
    "    int_to_note = pickle.load(filepath)\n",
    "    n_vocab = pickle.load(filepath)"
   ]
  },
  {
   "cell_type": "code",
   "execution_count": 4,
   "metadata": {
    "id": "gvY7EK88aoPi"
   },
   "outputs": [],
   "source": [
    "int_notes = np.array([note_to_int[note] for note in notes])\n",
    "seq_len = 100\n",
    "idx = seq_len * ((len(int_notes) - 1) // seq_len)"
   ]
  },
  {
   "cell_type": "code",
   "execution_count": 5,
   "metadata": {
    "id": "l0m-UAEgbZeY"
   },
   "outputs": [],
   "source": [
    "x_train, y_train = int_notes[:idx].reshape(-1, seq_len), int_notes[1:idx+1].reshape(-1, seq_len)\n",
    "x_train, x_val, y_train, y_val = train_test_split(x_train, y_train, random_state=0, test_size=0.1)"
   ]
  },
  {
   "cell_type": "code",
   "execution_count": 6,
   "metadata": {
    "id": "cVIhs8Y_dy7k"
   },
   "outputs": [],
   "source": [
    "bs = 512\n",
    "train_dataset = NotesDataset(x_train, y_train)\n",
    "train_loader = DataLoader(train_dataset, bs, shuffle=False)\n",
    "val_dataset = NotesDataset(x_val, y_val)\n",
    "val_loader = DataLoader(val_dataset, bs, shuffle=False)"
   ]
  },
  {
   "cell_type": "markdown",
   "metadata": {
    "id": "BxUzh373fdq9"
   },
   "source": [
    "# Model"
   ]
  },
  {
   "cell_type": "code",
   "execution_count": 7,
   "metadata": {
    "id": "T32lz1yKEIkJ"
   },
   "outputs": [],
   "source": [
    "n_semitones = int(int_to_note[n_vocab-1][0]) + 1 # Include 0\n",
    "n_durations = int(np.log2(max([v[1] for v in int_to_note.values()]))) + 1\n",
    "emb_dim = n_semitones + 3 + n_durations + 2"
   ]
  },
  {
   "cell_type": "code",
   "execution_count": 8,
   "metadata": {
    "id": "tXsnoWyDErFE"
   },
   "outputs": [],
   "source": [
    "init_embeddings = np.zeros((n_vocab, emb_dim))\n",
    "for i, k in enumerate(int_to_note.keys()):\n",
    "    cur_note = Note(int_to_note[k][0], int_to_note[k][1], int_to_note[k][2], int_to_note[k][3])\n",
    "    init_embeddings[i] = cur_note.vectorize(n_semitones, n_durations)\n",
    "init_embeddings = (torch.tensor(init_embeddings) - init_embeddings.mean()).to(device)"
   ]
  },
  {
   "cell_type": "code",
   "execution_count": 9,
   "metadata": {
    "id": "OcGzZM_NyiSj"
   },
   "outputs": [],
   "source": [
    "model = CustomTransformer(bs, n_vocab, emb_dim, seq_len, init_embeddings).to(device)\n",
    "criterion = nn.CrossEntropyLoss()\n",
    "optimizer = torch.optim.Adam(model.parameters(), lr=0.003, betas=(0.96, 0.999))"
   ]
  },
  {
   "cell_type": "markdown",
   "metadata": {
    "id": "2ryO1kbWiXWB"
   },
   "source": [
    "# Training and generation"
   ]
  },
  {
   "cell_type": "code",
   "execution_count": null,
   "metadata": {
    "colab": {
     "base_uri": "https://localhost:8080/"
    },
    "id": "5hKC_Ys7H10O",
    "outputId": "72e52a28-bf53-457a-91bd-773af2d650ec"
   },
   "outputs": [
    {
     "name": "stderr",
     "output_type": "stream",
     "text": [
      "Training 1/200: 100%|██████████| 10/10 [00:04<00:00,  2.30it/s]\n",
      "Validating 1/200: 100%|██████████| 2/2 [00:00<00:00,  5.97it/s]\n"
     ]
    },
    {
     "name": "stdout",
     "output_type": "stream",
     "text": [
      "Best model ever\n",
      "Epoch: 1, Train loss: 5.432, Val loss: 5.343\n"
     ]
    },
    {
     "name": "stderr",
     "output_type": "stream",
     "text": [
      "Training 2/200: 100%|██████████| 10/10 [00:04<00:00,  2.31it/s]\n",
      "Validating 2/200: 100%|██████████| 2/2 [00:00<00:00,  6.04it/s]\n"
     ]
    },
    {
     "name": "stdout",
     "output_type": "stream",
     "text": [
      "Best model ever\n",
      "Epoch: 2, Train loss: 5.150, Val loss: 5.075\n"
     ]
    },
    {
     "name": "stderr",
     "output_type": "stream",
     "text": [
      "Training 3/200: 100%|██████████| 10/10 [00:04<00:00,  2.20it/s]\n",
      "Validating 3/200: 100%|██████████| 2/2 [00:00<00:00,  5.93it/s]\n"
     ]
    },
    {
     "name": "stdout",
     "output_type": "stream",
     "text": [
      "Best model ever\n",
      "Epoch: 3, Train loss: 4.918, Val loss: 4.819\n"
     ]
    },
    {
     "name": "stderr",
     "output_type": "stream",
     "text": [
      "Training 4/200: 100%|██████████| 10/10 [00:04<00:00,  2.30it/s]\n",
      "Validating 4/200: 100%|██████████| 2/2 [00:00<00:00,  6.10it/s]\n"
     ]
    },
    {
     "name": "stdout",
     "output_type": "stream",
     "text": [
      "Best model ever\n",
      "Epoch: 4, Train loss: 4.698, Val loss: 4.713\n"
     ]
    },
    {
     "name": "stderr",
     "output_type": "stream",
     "text": [
      "Training 5/200: 100%|██████████| 10/10 [00:04<00:00,  2.15it/s]\n",
      "Validating 5/200: 100%|██████████| 2/2 [00:00<00:00,  5.97it/s]\n"
     ]
    },
    {
     "name": "stdout",
     "output_type": "stream",
     "text": [
      "Best model ever\n",
      "Epoch: 5, Train loss: 4.553, Val loss: 4.506\n"
     ]
    },
    {
     "name": "stderr",
     "output_type": "stream",
     "text": [
      "Training 6/200: 100%|██████████| 10/10 [00:04<00:00,  2.13it/s]\n",
      "Validating 6/200: 100%|██████████| 2/2 [00:00<00:00,  4.42it/s]\n"
     ]
    },
    {
     "name": "stdout",
     "output_type": "stream",
     "text": [
      "Best model ever\n",
      "Epoch: 6, Train loss: 4.419, Val loss: 4.390\n"
     ]
    },
    {
     "name": "stderr",
     "output_type": "stream",
     "text": [
      "Training 7/200: 100%|██████████| 10/10 [00:04<00:00,  2.22it/s]\n",
      "Validating 7/200: 100%|██████████| 2/2 [00:00<00:00,  4.20it/s]\n"
     ]
    },
    {
     "name": "stdout",
     "output_type": "stream",
     "text": [
      "Best model ever\n",
      "Epoch: 7, Train loss: 4.303, Val loss: 4.244\n"
     ]
    },
    {
     "name": "stderr",
     "output_type": "stream",
     "text": [
      "Training 8/200: 100%|██████████| 10/10 [00:04<00:00,  2.18it/s]\n",
      "Validating 8/200: 100%|██████████| 2/2 [00:00<00:00,  6.04it/s]\n"
     ]
    },
    {
     "name": "stdout",
     "output_type": "stream",
     "text": [
      "Best model ever\n",
      "Epoch: 8, Train loss: 4.192, Val loss: 4.160\n"
     ]
    },
    {
     "name": "stderr",
     "output_type": "stream",
     "text": [
      "Training 9/200: 100%|██████████| 10/10 [00:04<00:00,  2.29it/s]\n",
      "Validating 9/200: 100%|██████████| 2/2 [00:00<00:00,  6.21it/s]\n"
     ]
    },
    {
     "name": "stdout",
     "output_type": "stream",
     "text": [
      "Best model ever\n",
      "Epoch: 9, Train loss: 4.097, Val loss: 4.080\n"
     ]
    },
    {
     "name": "stderr",
     "output_type": "stream",
     "text": [
      "Training 10/200: 100%|██████████| 10/10 [00:04<00:00,  2.15it/s]\n",
      "Validating 10/200: 100%|██████████| 2/2 [00:00<00:00,  6.07it/s]\n"
     ]
    },
    {
     "name": "stdout",
     "output_type": "stream",
     "text": [
      "Best model ever\n",
      "Epoch: 10, Train loss: 4.017, Val loss: 4.015\n"
     ]
    },
    {
     "name": "stderr",
     "output_type": "stream",
     "text": [
      "Training 11/200: 100%|██████████| 10/10 [00:04<00:00,  2.30it/s]\n",
      "Validating 11/200: 100%|██████████| 2/2 [00:00<00:00,  6.30it/s]\n"
     ]
    },
    {
     "name": "stdout",
     "output_type": "stream",
     "text": [
      "Best model ever\n",
      "Epoch: 11, Train loss: 3.946, Val loss: 3.949\n"
     ]
    },
    {
     "name": "stderr",
     "output_type": "stream",
     "text": [
      "Training 12/200: 100%|██████████| 10/10 [00:04<00:00,  2.28it/s]\n",
      "Validating 12/200: 100%|██████████| 2/2 [00:00<00:00,  4.45it/s]\n"
     ]
    },
    {
     "name": "stdout",
     "output_type": "stream",
     "text": [
      "Best model ever\n",
      "Epoch: 12, Train loss: 3.882, Val loss: 3.923\n"
     ]
    },
    {
     "name": "stderr",
     "output_type": "stream",
     "text": [
      "Training 13/200: 100%|██████████| 10/10 [00:04<00:00,  2.21it/s]\n",
      "Validating 13/200: 100%|██████████| 2/2 [00:00<00:00,  5.96it/s]\n"
     ]
    },
    {
     "name": "stdout",
     "output_type": "stream",
     "text": [
      "Best model ever\n",
      "Epoch: 13, Train loss: 3.824, Val loss: 3.868\n"
     ]
    },
    {
     "name": "stderr",
     "output_type": "stream",
     "text": [
      "Training 14/200: 100%|██████████| 10/10 [00:04<00:00,  2.29it/s]\n",
      "Validating 14/200: 100%|██████████| 2/2 [00:00<00:00,  5.87it/s]\n"
     ]
    },
    {
     "name": "stdout",
     "output_type": "stream",
     "text": [
      "Best model ever\n",
      "Epoch: 14, Train loss: 3.769, Val loss: 3.810\n"
     ]
    },
    {
     "name": "stderr",
     "output_type": "stream",
     "text": [
      "Training 15/200: 100%|██████████| 10/10 [00:04<00:00,  2.19it/s]\n",
      "Validating 15/200: 100%|██████████| 2/2 [00:00<00:00,  6.27it/s]\n"
     ]
    },
    {
     "name": "stdout",
     "output_type": "stream",
     "text": [
      "Best model ever\n",
      "Epoch: 15, Train loss: 3.716, Val loss: 3.785\n"
     ]
    },
    {
     "name": "stderr",
     "output_type": "stream",
     "text": [
      "Training 16/200: 100%|██████████| 10/10 [00:04<00:00,  2.31it/s]\n",
      "Validating 16/200: 100%|██████████| 2/2 [00:00<00:00,  6.00it/s]\n"
     ]
    },
    {
     "name": "stdout",
     "output_type": "stream",
     "text": [
      "Best model ever\n",
      "Epoch: 16, Train loss: 3.679, Val loss: 3.729\n"
     ]
    },
    {
     "name": "stderr",
     "output_type": "stream",
     "text": [
      "Training 17/200: 100%|██████████| 10/10 [00:04<00:00,  2.25it/s]\n",
      "Validating 17/200: 100%|██████████| 2/2 [00:00<00:00,  4.65it/s]\n"
     ]
    },
    {
     "name": "stdout",
     "output_type": "stream",
     "text": [
      "Best model ever\n",
      "Epoch: 17, Train loss: 3.651, Val loss: 3.688\n"
     ]
    },
    {
     "name": "stderr",
     "output_type": "stream",
     "text": [
      "Training 18/200: 100%|██████████| 10/10 [00:04<00:00,  2.22it/s]\n",
      "Validating 18/200: 100%|██████████| 2/2 [00:00<00:00,  6.20it/s]\n"
     ]
    },
    {
     "name": "stdout",
     "output_type": "stream",
     "text": [
      "Best model ever\n",
      "Epoch: 18, Train loss: 3.619, Val loss: 3.662\n"
     ]
    },
    {
     "name": "stderr",
     "output_type": "stream",
     "text": [
      "Training 19/200: 100%|██████████| 10/10 [00:04<00:00,  2.28it/s]\n",
      "Validating 19/200: 100%|██████████| 2/2 [00:00<00:00,  6.19it/s]\n"
     ]
    },
    {
     "name": "stdout",
     "output_type": "stream",
     "text": [
      "Best model ever\n",
      "Epoch: 19, Train loss: 3.592, Val loss: 3.659\n"
     ]
    },
    {
     "name": "stderr",
     "output_type": "stream",
     "text": [
      "Training 20/200: 100%|██████████| 10/10 [00:04<00:00,  2.16it/s]\n",
      "Validating 20/200: 100%|██████████| 2/2 [00:00<00:00,  6.29it/s]\n"
     ]
    },
    {
     "name": "stdout",
     "output_type": "stream",
     "text": [
      "Epoch: 20, Train loss: 3.580, Val loss: 3.664\n"
     ]
    },
    {
     "name": "stderr",
     "output_type": "stream",
     "text": [
      "Training 21/200: 100%|██████████| 10/10 [00:04<00:00,  2.32it/s]\n",
      "Validating 21/200: 100%|██████████| 2/2 [00:00<00:00,  6.30it/s]\n"
     ]
    },
    {
     "name": "stdout",
     "output_type": "stream",
     "text": [
      "Best model ever\n",
      "Epoch: 21, Train loss: 3.577, Val loss: 3.616\n"
     ]
    },
    {
     "name": "stderr",
     "output_type": "stream",
     "text": [
      "Training 22/200: 100%|██████████| 10/10 [00:04<00:00,  2.28it/s]\n",
      "Validating 22/200: 100%|██████████| 2/2 [00:00<00:00,  4.54it/s]\n"
     ]
    },
    {
     "name": "stdout",
     "output_type": "stream",
     "text": [
      "Best model ever\n",
      "Epoch: 22, Train loss: 3.522, Val loss: 3.550\n"
     ]
    },
    {
     "name": "stderr",
     "output_type": "stream",
     "text": [
      "Training 23/200: 100%|██████████| 10/10 [00:04<00:00,  2.21it/s]\n",
      "Validating 23/200: 100%|██████████| 2/2 [00:00<00:00,  5.90it/s]\n"
     ]
    },
    {
     "name": "stdout",
     "output_type": "stream",
     "text": [
      "Epoch: 23, Train loss: 3.495, Val loss: 3.553\n"
     ]
    },
    {
     "name": "stderr",
     "output_type": "stream",
     "text": [
      "Training 24/200: 100%|██████████| 10/10 [00:04<00:00,  2.29it/s]\n",
      "Validating 24/200: 100%|██████████| 2/2 [00:00<00:00,  6.00it/s]\n"
     ]
    },
    {
     "name": "stdout",
     "output_type": "stream",
     "text": [
      "Best model ever\n",
      "Epoch: 24, Train loss: 3.462, Val loss: 3.499\n"
     ]
    },
    {
     "name": "stderr",
     "output_type": "stream",
     "text": [
      "Training 25/200: 100%|██████████| 10/10 [00:04<00:00,  2.15it/s]\n",
      "Validating 25/200: 100%|██████████| 2/2 [00:00<00:00,  6.06it/s]\n"
     ]
    },
    {
     "name": "stdout",
     "output_type": "stream",
     "text": [
      "Best model ever\n",
      "Epoch: 25, Train loss: 3.432, Val loss: 3.493\n"
     ]
    },
    {
     "name": "stderr",
     "output_type": "stream",
     "text": [
      "Training 26/200: 100%|██████████| 10/10 [00:04<00:00,  2.26it/s]\n",
      "Validating 26/200: 100%|██████████| 2/2 [00:00<00:00,  5.23it/s]\n"
     ]
    },
    {
     "name": "stdout",
     "output_type": "stream",
     "text": [
      "Best model ever\n",
      "Epoch: 26, Train loss: 3.409, Val loss: 3.444\n"
     ]
    },
    {
     "name": "stderr",
     "output_type": "stream",
     "text": [
      "Training 27/200: 100%|██████████| 10/10 [00:04<00:00,  2.26it/s]\n",
      "Validating 27/200: 100%|██████████| 2/2 [00:00<00:00,  4.59it/s]\n"
     ]
    },
    {
     "name": "stdout",
     "output_type": "stream",
     "text": [
      "Epoch: 27, Train loss: 3.389, Val loss: 3.455\n"
     ]
    },
    {
     "name": "stderr",
     "output_type": "stream",
     "text": [
      "Training 28/200: 100%|██████████| 10/10 [00:04<00:00,  2.19it/s]\n",
      "Validating 28/200: 100%|██████████| 2/2 [00:00<00:00,  6.07it/s]\n"
     ]
    },
    {
     "name": "stdout",
     "output_type": "stream",
     "text": [
      "Best model ever\n",
      "Epoch: 28, Train loss: 3.361, Val loss: 3.438\n"
     ]
    },
    {
     "name": "stderr",
     "output_type": "stream",
     "text": [
      "Training 29/200: 100%|██████████| 10/10 [00:04<00:00,  2.26it/s]\n",
      "Validating 29/200: 100%|██████████| 2/2 [00:00<00:00,  5.97it/s]\n"
     ]
    },
    {
     "name": "stdout",
     "output_type": "stream",
     "text": [
      "Best model ever\n",
      "Epoch: 29, Train loss: 3.347, Val loss: 3.413\n"
     ]
    },
    {
     "name": "stderr",
     "output_type": "stream",
     "text": [
      "Training 30/200: 100%|██████████| 10/10 [00:04<00:00,  2.17it/s]\n",
      "Validating 30/200: 100%|██████████| 2/2 [00:00<00:00,  6.12it/s]\n"
     ]
    },
    {
     "name": "stdout",
     "output_type": "stream",
     "text": [
      "Best model ever\n",
      "Epoch: 30, Train loss: 3.328, Val loss: 3.389\n"
     ]
    },
    {
     "name": "stderr",
     "output_type": "stream",
     "text": [
      "Training 31/200: 100%|██████████| 10/10 [00:04<00:00,  2.27it/s]\n",
      "Validating 31/200: 100%|██████████| 2/2 [00:00<00:00,  5.95it/s]\n"
     ]
    },
    {
     "name": "stdout",
     "output_type": "stream",
     "text": [
      "Best model ever\n",
      "Epoch: 31, Train loss: 3.307, Val loss: 3.370\n"
     ]
    },
    {
     "name": "stderr",
     "output_type": "stream",
     "text": [
      "Training 32/200: 100%|██████████| 10/10 [00:04<00:00,  2.21it/s]\n",
      "Validating 32/200: 100%|██████████| 2/2 [00:00<00:00,  4.65it/s]\n"
     ]
    },
    {
     "name": "stdout",
     "output_type": "stream",
     "text": [
      "Best model ever\n",
      "Epoch: 32, Train loss: 3.283, Val loss: 3.356\n"
     ]
    },
    {
     "name": "stderr",
     "output_type": "stream",
     "text": [
      "Training 33/200: 100%|██████████| 10/10 [00:04<00:00,  2.19it/s]\n",
      "Validating 33/200: 100%|██████████| 2/2 [00:00<00:00,  5.98it/s]\n"
     ]
    },
    {
     "name": "stdout",
     "output_type": "stream",
     "text": [
      "Best model ever\n",
      "Epoch: 33, Train loss: 3.268, Val loss: 3.338\n"
     ]
    },
    {
     "name": "stderr",
     "output_type": "stream",
     "text": [
      "Training 34/200: 100%|██████████| 10/10 [00:04<00:00,  2.28it/s]\n",
      "Validating 34/200: 100%|██████████| 2/2 [00:00<00:00,  5.86it/s]\n"
     ]
    },
    {
     "name": "stdout",
     "output_type": "stream",
     "text": [
      "Best model ever\n",
      "Epoch: 34, Train loss: 3.270, Val loss: 3.329\n"
     ]
    },
    {
     "name": "stderr",
     "output_type": "stream",
     "text": [
      "Training 35/200: 100%|██████████| 10/10 [00:04<00:00,  2.15it/s]\n",
      "Validating 35/200: 100%|██████████| 2/2 [00:00<00:00,  6.18it/s]\n"
     ]
    },
    {
     "name": "stdout",
     "output_type": "stream",
     "text": [
      "Epoch: 35, Train loss: 3.257, Val loss: 3.344\n"
     ]
    },
    {
     "name": "stderr",
     "output_type": "stream",
     "text": [
      "Training 36/200: 100%|██████████| 10/10 [00:04<00:00,  2.28it/s]\n",
      "Validating 36/200: 100%|██████████| 2/2 [00:00<00:00,  5.94it/s]\n"
     ]
    },
    {
     "name": "stdout",
     "output_type": "stream",
     "text": [
      "Epoch: 36, Train loss: 3.233, Val loss: 3.333\n"
     ]
    },
    {
     "name": "stderr",
     "output_type": "stream",
     "text": [
      "Training 37/200: 100%|██████████| 10/10 [00:04<00:00,  2.21it/s]\n",
      "Validating 37/200: 100%|██████████| 2/2 [00:00<00:00,  4.36it/s]\n"
     ]
    },
    {
     "name": "stdout",
     "output_type": "stream",
     "text": [
      "Epoch: 37, Train loss: 3.219, Val loss: 3.342\n"
     ]
    },
    {
     "name": "stderr",
     "output_type": "stream",
     "text": [
      "Training 38/200: 100%|██████████| 10/10 [00:04<00:00,  2.20it/s]\n",
      "Validating 38/200: 100%|██████████| 2/2 [00:00<00:00,  5.64it/s]\n"
     ]
    },
    {
     "name": "stdout",
     "output_type": "stream",
     "text": [
      "Best model ever\n",
      "Epoch: 38, Train loss: 3.243, Val loss: 3.318\n"
     ]
    },
    {
     "name": "stderr",
     "output_type": "stream",
     "text": [
      "Training 39/200: 100%|██████████| 10/10 [00:04<00:00,  2.25it/s]\n",
      "Validating 39/200: 100%|██████████| 2/2 [00:00<00:00,  6.08it/s]\n"
     ]
    },
    {
     "name": "stdout",
     "output_type": "stream",
     "text": [
      "Best model ever\n",
      "Epoch: 39, Train loss: 3.223, Val loss: 3.313\n"
     ]
    },
    {
     "name": "stderr",
     "output_type": "stream",
     "text": [
      "Training 40/200: 100%|██████████| 10/10 [00:04<00:00,  2.13it/s]\n",
      "Validating 40/200: 100%|██████████| 2/2 [00:00<00:00,  6.32it/s]\n"
     ]
    },
    {
     "name": "stdout",
     "output_type": "stream",
     "text": [
      "Epoch: 40, Train loss: 3.224, Val loss: 3.327\n"
     ]
    },
    {
     "name": "stderr",
     "output_type": "stream",
     "text": [
      "Training 41/200: 100%|██████████| 10/10 [00:04<00:00,  2.27it/s]\n",
      "Validating 41/200: 100%|██████████| 2/2 [00:00<00:00,  5.83it/s]\n"
     ]
    },
    {
     "name": "stdout",
     "output_type": "stream",
     "text": [
      "Epoch: 41, Train loss: 3.218, Val loss: 3.368\n"
     ]
    },
    {
     "name": "stderr",
     "output_type": "stream",
     "text": [
      "Training 42/200: 100%|██████████| 10/10 [00:04<00:00,  2.19it/s]\n",
      "Validating 42/200: 100%|██████████| 2/2 [00:00<00:00,  4.23it/s]\n"
     ]
    },
    {
     "name": "stdout",
     "output_type": "stream",
     "text": [
      "Epoch: 42, Train loss: 3.237, Val loss: 3.361\n"
     ]
    },
    {
     "name": "stderr",
     "output_type": "stream",
     "text": [
      "Training 43/200: 100%|██████████| 10/10 [00:04<00:00,  2.25it/s]\n",
      "Validating 43/200: 100%|██████████| 2/2 [00:00<00:00,  5.95it/s]\n"
     ]
    },
    {
     "name": "stdout",
     "output_type": "stream",
     "text": [
      "Epoch: 43, Train loss: 3.277, Val loss: 3.406\n"
     ]
    },
    {
     "name": "stderr",
     "output_type": "stream",
     "text": [
      "Training 44/200: 100%|██████████| 10/10 [00:04<00:00,  2.30it/s]\n",
      "Validating 44/200: 100%|██████████| 2/2 [00:00<00:00,  5.91it/s]\n"
     ]
    },
    {
     "name": "stdout",
     "output_type": "stream",
     "text": [
      "Epoch: 44, Train loss: 3.234, Val loss: 3.376\n"
     ]
    },
    {
     "name": "stderr",
     "output_type": "stream",
     "text": [
      "Training 45/200: 100%|██████████| 10/10 [00:04<00:00,  2.16it/s]\n",
      "Validating 45/200: 100%|██████████| 2/2 [00:00<00:00,  5.91it/s]\n"
     ]
    },
    {
     "name": "stdout",
     "output_type": "stream",
     "text": [
      "Best model ever\n",
      "Epoch: 45, Train loss: 3.200, Val loss: 3.308\n"
     ]
    },
    {
     "name": "stderr",
     "output_type": "stream",
     "text": [
      "Training 46/200: 100%|██████████| 10/10 [00:04<00:00,  2.28it/s]\n",
      "Validating 46/200: 100%|██████████| 2/2 [00:00<00:00,  6.26it/s]\n"
     ]
    },
    {
     "name": "stdout",
     "output_type": "stream",
     "text": [
      "Best model ever\n",
      "Epoch: 46, Train loss: 3.198, Val loss: 3.282\n"
     ]
    },
    {
     "name": "stderr",
     "output_type": "stream",
     "text": [
      "Training 47/200: 100%|██████████| 10/10 [00:04<00:00,  2.19it/s]\n",
      "Validating 47/200: 100%|██████████| 2/2 [00:00<00:00,  4.34it/s]\n"
     ]
    },
    {
     "name": "stdout",
     "output_type": "stream",
     "text": [
      "Best model ever\n",
      "Epoch: 47, Train loss: 3.149, Val loss: 3.263\n"
     ]
    },
    {
     "name": "stderr",
     "output_type": "stream",
     "text": [
      "Training 48/200: 100%|██████████| 10/10 [00:04<00:00,  2.24it/s]\n",
      "Validating 48/200: 100%|██████████| 2/2 [00:00<00:00,  5.56it/s]\n"
     ]
    },
    {
     "name": "stdout",
     "output_type": "stream",
     "text": [
      "Best model ever\n",
      "Epoch: 48, Train loss: 3.133, Val loss: 3.223\n"
     ]
    },
    {
     "name": "stderr",
     "output_type": "stream",
     "text": [
      "Training 49/200: 100%|██████████| 10/10 [00:04<00:00,  2.27it/s]\n",
      "Validating 49/200: 100%|██████████| 2/2 [00:00<00:00,  6.29it/s]\n"
     ]
    },
    {
     "name": "stdout",
     "output_type": "stream",
     "text": [
      "Best model ever\n",
      "Epoch: 49, Train loss: 3.091, Val loss: 3.216\n"
     ]
    },
    {
     "name": "stderr",
     "output_type": "stream",
     "text": [
      "Training 50/200: 100%|██████████| 10/10 [00:04<00:00,  2.13it/s]\n",
      "Validating 50/200: 100%|██████████| 2/2 [00:00<00:00,  6.24it/s]\n"
     ]
    },
    {
     "name": "stdout",
     "output_type": "stream",
     "text": [
      "Best model ever\n",
      "Epoch: 50, Train loss: 3.067, Val loss: 3.189\n"
     ]
    },
    {
     "name": "stderr",
     "output_type": "stream",
     "text": [
      "Training 51/200: 100%|██████████| 10/10 [00:04<00:00,  2.25it/s]\n",
      "Validating 51/200: 100%|██████████| 2/2 [00:00<00:00,  5.66it/s]\n"
     ]
    },
    {
     "name": "stdout",
     "output_type": "stream",
     "text": [
      "Epoch: 51, Train loss: 3.050, Val loss: 3.216\n"
     ]
    },
    {
     "name": "stderr",
     "output_type": "stream",
     "text": [
      "Training 52/200: 100%|██████████| 10/10 [00:04<00:00,  2.16it/s]\n",
      "Validating 52/200: 100%|██████████| 2/2 [00:00<00:00,  5.01it/s]\n"
     ]
    },
    {
     "name": "stdout",
     "output_type": "stream",
     "text": [
      "Best model ever\n",
      "Epoch: 52, Train loss: 3.041, Val loss: 3.175\n"
     ]
    },
    {
     "name": "stderr",
     "output_type": "stream",
     "text": [
      "Training 53/200: 100%|██████████| 10/10 [00:04<00:00,  2.28it/s]\n",
      "Validating 53/200: 100%|██████████| 2/2 [00:00<00:00,  6.09it/s]\n"
     ]
    },
    {
     "name": "stdout",
     "output_type": "stream",
     "text": [
      "Best model ever\n",
      "Epoch: 53, Train loss: 3.021, Val loss: 3.156\n"
     ]
    },
    {
     "name": "stderr",
     "output_type": "stream",
     "text": [
      "Training 54/200: 100%|██████████| 10/10 [00:04<00:00,  2.21it/s]\n",
      "Validating 54/200: 100%|██████████| 2/2 [00:00<00:00,  6.20it/s]\n"
     ]
    },
    {
     "name": "stdout",
     "output_type": "stream",
     "text": [
      "Epoch: 54, Train loss: 3.026, Val loss: 3.175\n"
     ]
    },
    {
     "name": "stderr",
     "output_type": "stream",
     "text": [
      "Training 55/200: 100%|██████████| 10/10 [00:04<00:00,  2.15it/s]\n",
      "Validating 55/200: 100%|██████████| 2/2 [00:00<00:00,  6.11it/s]\n"
     ]
    },
    {
     "name": "stdout",
     "output_type": "stream",
     "text": [
      "Epoch: 55, Train loss: 3.013, Val loss: 3.157\n"
     ]
    },
    {
     "name": "stderr",
     "output_type": "stream",
     "text": [
      "Training 56/200: 100%|██████████| 10/10 [00:04<00:00,  2.29it/s]\n",
      "Validating 56/200: 100%|██████████| 2/2 [00:00<00:00,  5.45it/s]\n"
     ]
    },
    {
     "name": "stdout",
     "output_type": "stream",
     "text": [
      "Best model ever\n",
      "Epoch: 56, Train loss: 2.998, Val loss: 3.126\n"
     ]
    },
    {
     "name": "stderr",
     "output_type": "stream",
     "text": [
      "Training 57/200: 100%|██████████| 10/10 [00:04<00:00,  2.17it/s]\n",
      "Validating 57/200: 100%|██████████| 2/2 [00:00<00:00,  5.07it/s]\n"
     ]
    },
    {
     "name": "stdout",
     "output_type": "stream",
     "text": [
      "Epoch: 57, Train loss: 2.995, Val loss: 3.173\n"
     ]
    },
    {
     "name": "stderr",
     "output_type": "stream",
     "text": [
      "Training 58/200: 100%|██████████| 10/10 [00:04<00:00,  2.28it/s]\n",
      "Validating 58/200: 100%|██████████| 2/2 [00:00<00:00,  5.53it/s]\n"
     ]
    },
    {
     "name": "stdout",
     "output_type": "stream",
     "text": [
      "Best model ever\n",
      "Epoch: 58, Train loss: 2.993, Val loss: 3.124\n"
     ]
    },
    {
     "name": "stderr",
     "output_type": "stream",
     "text": [
      "Training 59/200: 100%|██████████| 10/10 [00:04<00:00,  2.25it/s]\n",
      "Validating 59/200: 100%|██████████| 2/2 [00:00<00:00,  6.14it/s]\n"
     ]
    },
    {
     "name": "stdout",
     "output_type": "stream",
     "text": [
      "Epoch: 59, Train loss: 2.974, Val loss: 3.142\n"
     ]
    },
    {
     "name": "stderr",
     "output_type": "stream",
     "text": [
      "Training 60/200: 100%|██████████| 10/10 [00:04<00:00,  2.16it/s]\n",
      "Validating 60/200: 100%|██████████| 2/2 [00:00<00:00,  5.86it/s]\n"
     ]
    },
    {
     "name": "stdout",
     "output_type": "stream",
     "text": [
      "Best model ever\n",
      "Epoch: 60, Train loss: 2.966, Val loss: 3.120\n"
     ]
    },
    {
     "name": "stderr",
     "output_type": "stream",
     "text": [
      "Training 61/200: 100%|██████████| 10/10 [00:04<00:00,  2.25it/s]\n",
      "Validating 61/200: 100%|██████████| 2/2 [00:00<00:00,  6.04it/s]\n"
     ]
    },
    {
     "name": "stdout",
     "output_type": "stream",
     "text": [
      "Epoch: 61, Train loss: 2.955, Val loss: 3.128\n"
     ]
    },
    {
     "name": "stderr",
     "output_type": "stream",
     "text": [
      "Training 62/200: 100%|██████████| 10/10 [00:04<00:00,  2.13it/s]\n",
      "Validating 62/200: 100%|██████████| 2/2 [00:00<00:00,  6.33it/s]\n"
     ]
    },
    {
     "name": "stdout",
     "output_type": "stream",
     "text": [
      "Best model ever\n",
      "Epoch: 62, Train loss: 2.948, Val loss: 3.088\n"
     ]
    },
    {
     "name": "stderr",
     "output_type": "stream",
     "text": [
      "Training 63/200: 100%|██████████| 10/10 [00:04<00:00,  2.27it/s]\n",
      "Validating 63/200: 100%|██████████| 2/2 [00:00<00:00,  6.00it/s]\n"
     ]
    },
    {
     "name": "stdout",
     "output_type": "stream",
     "text": [
      "Epoch: 63, Train loss: 2.928, Val loss: 3.112\n"
     ]
    },
    {
     "name": "stderr",
     "output_type": "stream",
     "text": [
      "Training 64/200: 100%|██████████| 10/10 [00:04<00:00,  2.28it/s]\n",
      "Validating 64/200: 100%|██████████| 2/2 [00:00<00:00,  5.89it/s]\n"
     ]
    },
    {
     "name": "stdout",
     "output_type": "stream",
     "text": [
      "Epoch: 64, Train loss: 2.914, Val loss: 3.100\n"
     ]
    },
    {
     "name": "stderr",
     "output_type": "stream",
     "text": [
      "Training 65/200: 100%|██████████| 10/10 [00:04<00:00,  2.18it/s]\n",
      "Validating 65/200: 100%|██████████| 2/2 [00:00<00:00,  5.86it/s]\n"
     ]
    },
    {
     "name": "stdout",
     "output_type": "stream",
     "text": [
      "Epoch: 65, Train loss: 2.919, Val loss: 3.107\n"
     ]
    },
    {
     "name": "stderr",
     "output_type": "stream",
     "text": [
      "Training 66/200: 100%|██████████| 10/10 [00:04<00:00,  2.27it/s]\n",
      "Validating 66/200: 100%|██████████| 2/2 [00:00<00:00,  6.23it/s]\n"
     ]
    },
    {
     "name": "stdout",
     "output_type": "stream",
     "text": [
      "Epoch: 66, Train loss: 2.911, Val loss: 3.106\n"
     ]
    },
    {
     "name": "stderr",
     "output_type": "stream",
     "text": [
      "Training 67/200: 100%|██████████| 10/10 [00:04<00:00,  2.15it/s]\n",
      "Validating 67/200: 100%|██████████| 2/2 [00:00<00:00,  6.03it/s]\n"
     ]
    },
    {
     "name": "stdout",
     "output_type": "stream",
     "text": [
      "Epoch: 67, Train loss: 2.928, Val loss: 3.127\n"
     ]
    },
    {
     "name": "stderr",
     "output_type": "stream",
     "text": [
      "Training 68/200: 100%|██████████| 10/10 [00:04<00:00,  2.25it/s]\n",
      "Validating 68/200: 100%|██████████| 2/2 [00:00<00:00,  5.83it/s]\n"
     ]
    },
    {
     "name": "stdout",
     "output_type": "stream",
     "text": [
      "Best model ever\n",
      "Epoch: 68, Train loss: 2.910, Val loss: 3.087\n"
     ]
    },
    {
     "name": "stderr",
     "output_type": "stream",
     "text": [
      "Training 69/200: 100%|██████████| 10/10 [00:04<00:00,  2.25it/s]\n",
      "Validating 69/200: 100%|██████████| 2/2 [00:00<00:00,  4.97it/s]\n"
     ]
    },
    {
     "name": "stdout",
     "output_type": "stream",
     "text": [
      "Epoch: 69, Train loss: 2.878, Val loss: 3.091\n"
     ]
    },
    {
     "name": "stderr",
     "output_type": "stream",
     "text": [
      "Training 70/200: 100%|██████████| 10/10 [00:04<00:00,  2.15it/s]\n",
      "Validating 70/200: 100%|██████████| 2/2 [00:00<00:00,  6.03it/s]\n"
     ]
    },
    {
     "name": "stdout",
     "output_type": "stream",
     "text": [
      "Best model ever\n",
      "Epoch: 70, Train loss: 2.880, Val loss: 3.081\n"
     ]
    },
    {
     "name": "stderr",
     "output_type": "stream",
     "text": [
      "Training 71/200: 100%|██████████| 10/10 [00:04<00:00,  2.27it/s]\n",
      "Validating 71/200: 100%|██████████| 2/2 [00:00<00:00,  6.19it/s]\n"
     ]
    },
    {
     "name": "stdout",
     "output_type": "stream",
     "text": [
      "Best model ever\n",
      "Epoch: 71, Train loss: 2.860, Val loss: 3.047\n"
     ]
    },
    {
     "name": "stderr",
     "output_type": "stream",
     "text": [
      "Training 72/200: 100%|██████████| 10/10 [00:04<00:00,  2.16it/s]\n",
      "Validating 72/200: 100%|██████████| 2/2 [00:00<00:00,  5.73it/s]\n"
     ]
    },
    {
     "name": "stdout",
     "output_type": "stream",
     "text": [
      "Best model ever\n",
      "Epoch: 72, Train loss: 2.836, Val loss: 3.018\n"
     ]
    },
    {
     "name": "stderr",
     "output_type": "stream",
     "text": [
      "Training 73/200: 100%|██████████| 10/10 [00:04<00:00,  2.27it/s]\n",
      "Validating 73/200: 100%|██████████| 2/2 [00:00<00:00,  6.16it/s]\n"
     ]
    },
    {
     "name": "stdout",
     "output_type": "stream",
     "text": [
      "Best model ever\n",
      "Epoch: 73, Train loss: 2.814, Val loss: 3.015\n"
     ]
    },
    {
     "name": "stderr",
     "output_type": "stream",
     "text": [
      "Training 74/200: 100%|██████████| 10/10 [00:04<00:00,  2.26it/s]\n",
      "Validating 74/200: 100%|██████████| 2/2 [00:00<00:00,  4.52it/s]\n"
     ]
    },
    {
     "name": "stdout",
     "output_type": "stream",
     "text": [
      "Best model ever\n",
      "Epoch: 74, Train loss: 2.798, Val loss: 3.011\n"
     ]
    },
    {
     "name": "stderr",
     "output_type": "stream",
     "text": [
      "Training 75/200: 100%|██████████| 10/10 [00:04<00:00,  2.19it/s]\n",
      "Validating 75/200: 100%|██████████| 2/2 [00:00<00:00,  5.92it/s]\n"
     ]
    },
    {
     "name": "stdout",
     "output_type": "stream",
     "text": [
      "Best model ever\n",
      "Epoch: 75, Train loss: 2.802, Val loss: 3.007\n"
     ]
    },
    {
     "name": "stderr",
     "output_type": "stream",
     "text": [
      "Training 76/200: 100%|██████████| 10/10 [00:04<00:00,  2.27it/s]\n",
      "Validating 76/200: 100%|██████████| 2/2 [00:00<00:00,  5.89it/s]\n"
     ]
    },
    {
     "name": "stdout",
     "output_type": "stream",
     "text": [
      "Best model ever\n",
      "Epoch: 76, Train loss: 2.801, Val loss: 3.001\n"
     ]
    },
    {
     "name": "stderr",
     "output_type": "stream",
     "text": [
      "Training 77/200: 100%|██████████| 10/10 [00:04<00:00,  2.15it/s]\n",
      "Validating 77/200: 100%|██████████| 2/2 [00:00<00:00,  6.17it/s]\n"
     ]
    },
    {
     "name": "stdout",
     "output_type": "stream",
     "text": [
      "Epoch: 77, Train loss: 2.778, Val loss: 3.009\n"
     ]
    },
    {
     "name": "stderr",
     "output_type": "stream",
     "text": [
      "Training 78/200: 100%|██████████| 10/10 [00:04<00:00,  2.27it/s]\n",
      "Validating 78/200: 100%|██████████| 2/2 [00:00<00:00,  6.26it/s]\n"
     ]
    },
    {
     "name": "stdout",
     "output_type": "stream",
     "text": [
      "Best model ever\n",
      "Epoch: 78, Train loss: 2.757, Val loss: 2.984\n"
     ]
    },
    {
     "name": "stderr",
     "output_type": "stream",
     "text": [
      "Training 79/200: 100%|██████████| 10/10 [00:04<00:00,  2.29it/s]\n",
      "Validating 79/200: 100%|██████████| 2/2 [00:00<00:00,  4.34it/s]\n"
     ]
    },
    {
     "name": "stdout",
     "output_type": "stream",
     "text": [
      "Best model ever\n",
      "Epoch: 79, Train loss: 2.733, Val loss: 2.970\n"
     ]
    },
    {
     "name": "stderr",
     "output_type": "stream",
     "text": [
      "Training 80/200: 100%|██████████| 10/10 [00:04<00:00,  2.19it/s]\n",
      "Validating 80/200: 100%|██████████| 2/2 [00:00<00:00,  6.21it/s]\n"
     ]
    },
    {
     "name": "stdout",
     "output_type": "stream",
     "text": [
      "Best model ever\n",
      "Epoch: 80, Train loss: 2.724, Val loss: 2.962\n"
     ]
    },
    {
     "name": "stderr",
     "output_type": "stream",
     "text": [
      "Training 81/200: 100%|██████████| 10/10 [00:04<00:00,  2.28it/s]\n",
      "Validating 81/200: 100%|██████████| 2/2 [00:00<00:00,  5.69it/s]\n"
     ]
    },
    {
     "name": "stdout",
     "output_type": "stream",
     "text": [
      "Best model ever\n",
      "Epoch: 81, Train loss: 2.718, Val loss: 2.959\n"
     ]
    },
    {
     "name": "stderr",
     "output_type": "stream",
     "text": [
      "Training 82/200: 100%|██████████| 10/10 [00:04<00:00,  2.15it/s]\n",
      "Validating 82/200: 100%|██████████| 2/2 [00:00<00:00,  6.14it/s]\n"
     ]
    },
    {
     "name": "stdout",
     "output_type": "stream",
     "text": [
      "Best model ever\n",
      "Epoch: 82, Train loss: 2.706, Val loss: 2.939\n"
     ]
    },
    {
     "name": "stderr",
     "output_type": "stream",
     "text": [
      "Training 83/200: 100%|██████████| 10/10 [00:04<00:00,  2.27it/s]\n",
      "Validating 83/200: 100%|██████████| 2/2 [00:00<00:00,  6.02it/s]\n"
     ]
    },
    {
     "name": "stdout",
     "output_type": "stream",
     "text": [
      "Best model ever\n",
      "Epoch: 83, Train loss: 2.684, Val loss: 2.898\n"
     ]
    },
    {
     "name": "stderr",
     "output_type": "stream",
     "text": [
      "Training 84/200: 100%|██████████| 10/10 [00:04<00:00,  2.22it/s]\n",
      "Validating 84/200: 100%|██████████| 2/2 [00:00<00:00,  4.43it/s]\n"
     ]
    },
    {
     "name": "stdout",
     "output_type": "stream",
     "text": [
      "Epoch: 84, Train loss: 2.663, Val loss: 2.908\n"
     ]
    },
    {
     "name": "stderr",
     "output_type": "stream",
     "text": [
      "Training 85/200: 100%|██████████| 10/10 [00:04<00:00,  2.13it/s]\n",
      "Validating 85/200: 100%|██████████| 2/2 [00:00<00:00,  5.90it/s]\n"
     ]
    },
    {
     "name": "stdout",
     "output_type": "stream",
     "text": [
      "Epoch: 85, Train loss: 2.645, Val loss: 2.937\n"
     ]
    },
    {
     "name": "stderr",
     "output_type": "stream",
     "text": [
      "Training 86/200: 100%|██████████| 10/10 [00:04<00:00,  2.24it/s]\n",
      "Validating 86/200: 100%|██████████| 2/2 [00:00<00:00,  5.77it/s]\n"
     ]
    },
    {
     "name": "stdout",
     "output_type": "stream",
     "text": [
      "Epoch: 86, Train loss: 2.636, Val loss: 2.905\n"
     ]
    },
    {
     "name": "stderr",
     "output_type": "stream",
     "text": [
      "Training 87/200: 100%|██████████| 10/10 [00:04<00:00,  2.13it/s]\n",
      "Validating 87/200: 100%|██████████| 2/2 [00:00<00:00,  5.56it/s]\n"
     ]
    },
    {
     "name": "stdout",
     "output_type": "stream",
     "text": [
      "Epoch: 87, Train loss: 2.624, Val loss: 2.913\n"
     ]
    },
    {
     "name": "stderr",
     "output_type": "stream",
     "text": [
      "Training 88/200: 100%|██████████| 10/10 [00:04<00:00,  2.26it/s]\n",
      "Validating 88/200: 100%|██████████| 2/2 [00:00<00:00,  6.01it/s]\n"
     ]
    },
    {
     "name": "stdout",
     "output_type": "stream",
     "text": [
      "Best model ever\n",
      "Epoch: 88, Train loss: 2.624, Val loss: 2.894\n"
     ]
    },
    {
     "name": "stderr",
     "output_type": "stream",
     "text": [
      "Training 89/200: 100%|██████████| 10/10 [00:04<00:00,  2.17it/s]\n",
      "Validating 89/200: 100%|██████████| 2/2 [00:00<00:00,  4.34it/s]\n"
     ]
    },
    {
     "name": "stdout",
     "output_type": "stream",
     "text": [
      "Best model ever\n",
      "Epoch: 89, Train loss: 2.600, Val loss: 2.886\n"
     ]
    },
    {
     "name": "stderr",
     "output_type": "stream",
     "text": [
      "Training 90/200: 100%|██████████| 10/10 [00:04<00:00,  2.23it/s]\n",
      "Validating 90/200: 100%|██████████| 2/2 [00:00<00:00,  6.20it/s]\n"
     ]
    },
    {
     "name": "stdout",
     "output_type": "stream",
     "text": [
      "Best model ever\n",
      "Epoch: 90, Train loss: 2.591, Val loss: 2.864\n"
     ]
    },
    {
     "name": "stderr",
     "output_type": "stream",
     "text": [
      "Training 91/200: 100%|██████████| 10/10 [00:04<00:00,  2.27it/s]\n",
      "Validating 91/200: 100%|██████████| 2/2 [00:00<00:00,  5.89it/s]\n"
     ]
    },
    {
     "name": "stdout",
     "output_type": "stream",
     "text": [
      "Best model ever\n",
      "Epoch: 91, Train loss: 2.593, Val loss: 2.859\n"
     ]
    },
    {
     "name": "stderr",
     "output_type": "stream",
     "text": [
      "Training 92/200: 100%|██████████| 10/10 [00:04<00:00,  2.14it/s]\n",
      "Validating 92/200: 100%|██████████| 2/2 [00:00<00:00,  5.43it/s]\n"
     ]
    },
    {
     "name": "stdout",
     "output_type": "stream",
     "text": [
      "Epoch: 92, Train loss: 2.584, Val loss: 2.877\n"
     ]
    },
    {
     "name": "stderr",
     "output_type": "stream",
     "text": [
      "Training 93/200: 100%|██████████| 10/10 [00:04<00:00,  2.27it/s]\n",
      "Validating 93/200: 100%|██████████| 2/2 [00:00<00:00,  5.89it/s]\n"
     ]
    },
    {
     "name": "stdout",
     "output_type": "stream",
     "text": [
      "Epoch: 93, Train loss: 2.586, Val loss: 2.890\n"
     ]
    },
    {
     "name": "stderr",
     "output_type": "stream",
     "text": [
      "Training 94/200: 100%|██████████| 10/10 [00:04<00:00,  2.20it/s]\n",
      "Validating 94/200: 100%|██████████| 2/2 [00:00<00:00,  4.44it/s]\n"
     ]
    },
    {
     "name": "stdout",
     "output_type": "stream",
     "text": [
      "Epoch: 94, Train loss: 2.574, Val loss: 2.859\n"
     ]
    },
    {
     "name": "stderr",
     "output_type": "stream",
     "text": [
      "Training 95/200: 100%|██████████| 10/10 [00:04<00:00,  2.23it/s]\n",
      "Validating 95/200: 100%|██████████| 2/2 [00:00<00:00,  5.81it/s]\n"
     ]
    },
    {
     "name": "stdout",
     "output_type": "stream",
     "text": [
      "Epoch: 95, Train loss: 2.587, Val loss: 2.870\n"
     ]
    },
    {
     "name": "stderr",
     "output_type": "stream",
     "text": [
      "Training 96/200: 100%|██████████| 10/10 [00:04<00:00,  2.26it/s]\n",
      "Validating 96/200: 100%|██████████| 2/2 [00:00<00:00,  5.72it/s]\n"
     ]
    },
    {
     "name": "stdout",
     "output_type": "stream",
     "text": [
      "Epoch: 96, Train loss: 2.593, Val loss: 2.892\n"
     ]
    },
    {
     "name": "stderr",
     "output_type": "stream",
     "text": [
      "Training 97/200: 100%|██████████| 10/10 [00:04<00:00,  2.12it/s]\n",
      "Validating 97/200: 100%|██████████| 2/2 [00:00<00:00,  5.48it/s]\n"
     ]
    },
    {
     "name": "stdout",
     "output_type": "stream",
     "text": [
      "Epoch: 97, Train loss: 2.582, Val loss: 2.868\n"
     ]
    },
    {
     "name": "stderr",
     "output_type": "stream",
     "text": [
      "Training 98/200: 100%|██████████| 10/10 [00:04<00:00,  2.25it/s]\n",
      "Validating 98/200: 100%|██████████| 2/2 [00:00<00:00,  5.91it/s]\n"
     ]
    },
    {
     "name": "stdout",
     "output_type": "stream",
     "text": [
      "Best model ever\n",
      "Epoch: 98, Train loss: 2.563, Val loss: 2.856\n"
     ]
    },
    {
     "name": "stderr",
     "output_type": "stream",
     "text": [
      "Training 99/200: 100%|██████████| 10/10 [00:04<00:00,  2.15it/s]\n",
      "Validating 99/200: 100%|██████████| 2/2 [00:00<00:00,  4.64it/s]\n"
     ]
    },
    {
     "name": "stdout",
     "output_type": "stream",
     "text": [
      "Best model ever\n",
      "Epoch: 99, Train loss: 2.555, Val loss: 2.846\n"
     ]
    },
    {
     "name": "stderr",
     "output_type": "stream",
     "text": [
      "Training 100/200: 100%|██████████| 10/10 [00:04<00:00,  2.23it/s]\n",
      "Validating 100/200: 100%|██████████| 2/2 [00:00<00:00,  6.07it/s]\n"
     ]
    },
    {
     "name": "stdout",
     "output_type": "stream",
     "text": [
      "Best model ever\n",
      "Epoch: 100, Train loss: 2.562, Val loss: 2.835\n"
     ]
    },
    {
     "name": "stderr",
     "output_type": "stream",
     "text": [
      "Training 101/200: 100%|██████████| 10/10 [00:04<00:00,  2.23it/s]\n",
      "Validating 101/200: 100%|██████████| 2/2 [00:00<00:00,  5.66it/s]\n"
     ]
    },
    {
     "name": "stdout",
     "output_type": "stream",
     "text": [
      "Epoch: 101, Train loss: 2.562, Val loss: 2.839\n"
     ]
    },
    {
     "name": "stderr",
     "output_type": "stream",
     "text": [
      "Training 102/200: 100%|██████████| 10/10 [00:04<00:00,  2.14it/s]\n",
      "Validating 102/200: 100%|██████████| 2/2 [00:00<00:00,  5.88it/s]\n"
     ]
    },
    {
     "name": "stdout",
     "output_type": "stream",
     "text": [
      "Epoch: 102, Train loss: 2.581, Val loss: 2.891\n"
     ]
    },
    {
     "name": "stderr",
     "output_type": "stream",
     "text": [
      "Training 103/200: 100%|██████████| 10/10 [00:04<00:00,  2.23it/s]\n",
      "Validating 103/200: 100%|██████████| 2/2 [00:00<00:00,  6.10it/s]\n"
     ]
    },
    {
     "name": "stdout",
     "output_type": "stream",
     "text": [
      "Epoch: 103, Train loss: 2.599, Val loss: 2.858\n"
     ]
    },
    {
     "name": "stderr",
     "output_type": "stream",
     "text": [
      "Training 104/200: 100%|██████████| 10/10 [00:04<00:00,  2.11it/s]\n",
      "Validating 104/200: 100%|██████████| 2/2 [00:00<00:00,  6.00it/s]\n"
     ]
    },
    {
     "name": "stdout",
     "output_type": "stream",
     "text": [
      "Epoch: 104, Train loss: 2.577, Val loss: 2.900\n"
     ]
    },
    {
     "name": "stderr",
     "output_type": "stream",
     "text": [
      "Training 105/200: 100%|██████████| 10/10 [00:04<00:00,  2.28it/s]\n",
      "Validating 105/200: 100%|██████████| 2/2 [00:00<00:00,  5.98it/s]\n"
     ]
    },
    {
     "name": "stdout",
     "output_type": "stream",
     "text": [
      "Epoch: 105, Train loss: 2.570, Val loss: 2.895\n"
     ]
    },
    {
     "name": "stderr",
     "output_type": "stream",
     "text": [
      "Training 106/200: 100%|██████████| 10/10 [00:04<00:00,  2.23it/s]\n",
      "Validating 106/200: 100%|██████████| 2/2 [00:00<00:00,  4.83it/s]\n"
     ]
    },
    {
     "name": "stdout",
     "output_type": "stream",
     "text": [
      "Epoch: 106, Train loss: 2.562, Val loss: 2.884\n"
     ]
    },
    {
     "name": "stderr",
     "output_type": "stream",
     "text": [
      "Training 107/200: 100%|██████████| 10/10 [00:04<00:00,  2.14it/s]\n",
      "Validating 107/200: 100%|██████████| 2/2 [00:00<00:00,  5.57it/s]\n"
     ]
    },
    {
     "name": "stdout",
     "output_type": "stream",
     "text": [
      "Best model ever\n",
      "Epoch: 107, Train loss: 2.525, Val loss: 2.831\n"
     ]
    },
    {
     "name": "stderr",
     "output_type": "stream",
     "text": [
      "Training 108/200: 100%|██████████| 10/10 [00:04<00:00,  2.25it/s]\n",
      "Validating 108/200: 100%|██████████| 2/2 [00:00<00:00,  5.92it/s]\n"
     ]
    },
    {
     "name": "stdout",
     "output_type": "stream",
     "text": [
      "Best model ever\n",
      "Epoch: 108, Train loss: 2.501, Val loss: 2.818\n"
     ]
    },
    {
     "name": "stderr",
     "output_type": "stream",
     "text": [
      "Training 109/200: 100%|██████████| 10/10 [00:04<00:00,  2.12it/s]\n",
      "Validating 109/200: 100%|██████████| 2/2 [00:00<00:00,  5.77it/s]\n"
     ]
    },
    {
     "name": "stdout",
     "output_type": "stream",
     "text": [
      "Epoch: 109, Train loss: 2.484, Val loss: 2.837\n"
     ]
    },
    {
     "name": "stderr",
     "output_type": "stream",
     "text": [
      "Training 110/200: 100%|██████████| 10/10 [00:04<00:00,  2.25it/s]\n",
      "Validating 110/200: 100%|██████████| 2/2 [00:00<00:00,  5.81it/s]\n"
     ]
    },
    {
     "name": "stdout",
     "output_type": "stream",
     "text": [
      "Epoch: 110, Train loss: 2.478, Val loss: 2.830\n"
     ]
    },
    {
     "name": "stderr",
     "output_type": "stream",
     "text": [
      "Training 111/200: 100%|██████████| 10/10 [00:04<00:00,  2.18it/s]\n",
      "Validating 111/200: 100%|██████████| 2/2 [00:00<00:00,  4.55it/s]\n"
     ]
    },
    {
     "name": "stdout",
     "output_type": "stream",
     "text": [
      "Best model ever\n",
      "Epoch: 111, Train loss: 2.456, Val loss: 2.774\n"
     ]
    },
    {
     "name": "stderr",
     "output_type": "stream",
     "text": [
      "Training 112/200: 100%|██████████| 10/10 [00:04<00:00,  2.13it/s]\n",
      "Validating 112/200: 100%|██████████| 2/2 [00:00<00:00,  5.65it/s]\n"
     ]
    },
    {
     "name": "stdout",
     "output_type": "stream",
     "text": [
      "Epoch: 112, Train loss: 2.437, Val loss: 2.777\n"
     ]
    },
    {
     "name": "stderr",
     "output_type": "stream",
     "text": [
      "Training 113/200: 100%|██████████| 10/10 [00:04<00:00,  2.22it/s]\n",
      "Validating 113/200: 100%|██████████| 2/2 [00:00<00:00,  6.17it/s]\n"
     ]
    },
    {
     "name": "stdout",
     "output_type": "stream",
     "text": [
      "Best model ever\n",
      "Epoch: 113, Train loss: 2.412, Val loss: 2.743\n"
     ]
    },
    {
     "name": "stderr",
     "output_type": "stream",
     "text": [
      "Training 114/200: 100%|██████████| 10/10 [00:04<00:00,  2.09it/s]\n",
      "Validating 114/200: 100%|██████████| 2/2 [00:00<00:00,  5.44it/s]\n"
     ]
    },
    {
     "name": "stdout",
     "output_type": "stream",
     "text": [
      "Best model ever\n",
      "Epoch: 114, Train loss: 2.401, Val loss: 2.720\n"
     ]
    },
    {
     "name": "stderr",
     "output_type": "stream",
     "text": [
      "Training 115/200: 100%|██████████| 10/10 [00:04<00:00,  2.21it/s]\n",
      "Validating 115/200: 100%|██████████| 2/2 [00:00<00:00,  5.55it/s]\n"
     ]
    },
    {
     "name": "stdout",
     "output_type": "stream",
     "text": [
      "Best model ever\n",
      "Epoch: 115, Train loss: 2.392, Val loss: 2.716\n"
     ]
    },
    {
     "name": "stderr",
     "output_type": "stream",
     "text": [
      "Training 116/200: 100%|██████████| 10/10 [00:04<00:00,  2.16it/s]\n",
      "Validating 116/200: 100%|██████████| 2/2 [00:00<00:00,  4.19it/s]\n"
     ]
    },
    {
     "name": "stdout",
     "output_type": "stream",
     "text": [
      "Epoch: 116, Train loss: 2.387, Val loss: 2.759\n"
     ]
    },
    {
     "name": "stderr",
     "output_type": "stream",
     "text": [
      "Training 117/200: 100%|██████████| 10/10 [00:04<00:00,  2.18it/s]\n",
      "Validating 117/200: 100%|██████████| 2/2 [00:00<00:00,  5.76it/s]\n"
     ]
    },
    {
     "name": "stdout",
     "output_type": "stream",
     "text": [
      "Epoch: 117, Train loss: 2.383, Val loss: 2.746\n"
     ]
    },
    {
     "name": "stderr",
     "output_type": "stream",
     "text": [
      "Training 118/200: 100%|██████████| 10/10 [00:04<00:00,  2.15it/s]\n",
      "Validating 118/200: 100%|██████████| 2/2 [00:00<00:00,  5.41it/s]\n"
     ]
    },
    {
     "name": "stdout",
     "output_type": "stream",
     "text": [
      "Epoch: 118, Train loss: 2.404, Val loss: 2.728\n"
     ]
    },
    {
     "name": "stderr",
     "output_type": "stream",
     "text": [
      "Training 119/200: 100%|██████████| 10/10 [00:04<00:00,  2.13it/s]\n",
      "Validating 119/200: 100%|██████████| 2/2 [00:00<00:00,  6.15it/s]\n"
     ]
    },
    {
     "name": "stdout",
     "output_type": "stream",
     "text": [
      "Epoch: 119, Train loss: 2.405, Val loss: 2.782\n"
     ]
    },
    {
     "name": "stderr",
     "output_type": "stream",
     "text": [
      "Training 120/200: 100%|██████████| 10/10 [00:04<00:00,  2.20it/s]\n",
      "Validating 120/200: 100%|██████████| 2/2 [00:00<00:00,  5.95it/s]\n"
     ]
    },
    {
     "name": "stdout",
     "output_type": "stream",
     "text": [
      "Epoch: 120, Train loss: 2.432, Val loss: 2.850\n"
     ]
    },
    {
     "name": "stderr",
     "output_type": "stream",
     "text": [
      "Training 121/200: 100%|██████████| 10/10 [00:04<00:00,  2.10it/s]\n",
      "Validating 121/200: 100%|██████████| 2/2 [00:00<00:00,  5.78it/s]\n"
     ]
    },
    {
     "name": "stdout",
     "output_type": "stream",
     "text": [
      "Epoch: 121, Train loss: 2.459, Val loss: 2.847\n"
     ]
    },
    {
     "name": "stderr",
     "output_type": "stream",
     "text": [
      "Training 122/200: 100%|██████████| 10/10 [00:04<00:00,  2.22it/s]\n",
      "Validating 122/200: 100%|██████████| 2/2 [00:00<00:00,  6.01it/s]\n"
     ]
    },
    {
     "name": "stdout",
     "output_type": "stream",
     "text": [
      "Epoch: 122, Train loss: 2.444, Val loss: 2.799\n"
     ]
    },
    {
     "name": "stderr",
     "output_type": "stream",
     "text": [
      "Training 123/200: 100%|██████████| 10/10 [00:04<00:00,  2.24it/s]\n",
      "Validating 123/200: 100%|██████████| 2/2 [00:00<00:00,  5.07it/s]\n"
     ]
    }
   ],
   "source": [
    "train(model, train_loader, val_loader, criterion, optimizer, 200)"
   ]
  },
  {
   "cell_type": "code",
   "execution_count": 10,
   "metadata": {
    "id": "j-BCD1X_vSEL"
   },
   "outputs": [],
   "source": [
    "with mgzip.open(\"track_data.pickle.gz\", 'rb') as filepath:\n",
    "    track_data = pickle.load(filepath)"
   ]
  },
  {
   "cell_type": "code",
   "execution_count": 11,
   "metadata": {
    "colab": {
     "base_uri": "https://localhost:8080/"
    },
    "id": "UszGxijtvc01",
    "outputId": "ddd1e2b2-9a3c-4ae4-a8d0-718c6be3eb10"
   },
   "outputs": [
    {
     "name": "stderr",
     "output_type": "stream",
     "text": [
      "/home/natalia/.local/lib/python3.8/site-packages/torch/nn/modules/module.py:1518: UserWarning: Implicit dimension choice for softmax has been deprecated. Change the call to include dim=X as an argument.\n",
      "  return self._call_impl(*args, **kwargs)\n"
     ]
    }
   ],
   "source": [
    "np.random.seed(42)\n",
    "\n",
    "track_idx1 = 58\n",
    "first_note_idx1 = track_data.loc[track_idx1][\"noteStartIdx\"]\n",
    "last_note_idx1 = track_data.loc[track_idx1 + 1][\"noteStartIdx\"]\n",
    "gap = np.random.randint(0, last_note_idx1 - first_note_idx1)\n",
    "start_note_idx1 = first_note_idx1 + gap\n",
    "\n",
    "len_ = np.random.choice(np.arange(min(100, last_note_idx1 - first_note_idx1)))\n",
    "start_seq = [val for val in int_notes[start_note_idx1:start_note_idx1+len_]]\n",
    "new_seq1 = inference_model(model, start_seq, int_to_note)"
   ]
  },
  {
   "cell_type": "code",
   "execution_count": 13,
   "metadata": {
    "id": "0vIfZzFM8jxX"
   },
   "outputs": [],
   "source": [
    "track_idx2 = 59\n",
    "first_note_idx2 = track_data.loc[track_idx2][\"noteStartIdx\"]\n",
    "last_note_idx2 = track_data.loc[track_idx2 + 1][\"noteStartIdx\"]\n",
    "start_note_idx2 = first_note_idx2 + gap\n",
    "\n",
    "start_seq = [val for val in int_notes[start_note_idx2:start_note_idx2+len_]]\n",
    "new_seq2 = inference_model(model, start_seq, int_to_note)"
   ]
  },
  {
   "cell_type": "markdown",
   "metadata": {
    "id": "DGv35PBSPMQB"
   },
   "source": [
    "# Postprocessing"
   ]
  },
  {
   "cell_type": "code",
   "execution_count": 14,
   "metadata": {
    "id": "bIqrhk2THGB5"
   },
   "outputs": [],
   "source": [
    "new_track1 = split_by_measures(new_seq1)\n",
    "new_track2 = split_by_measures(new_seq2)"
   ]
  },
  {
   "cell_type": "code",
   "execution_count": 15,
   "metadata": {
    "id": "f4MDyW_xjIY3"
   },
   "outputs": [],
   "source": [
    "if len(new_track1) < len(new_track2):\n",
    "    track = new_track1.copy()\n",
    "    new_track1 = new_track2\n",
    "    new_track2 = track\n",
    "\n",
    "    track_idx = copy.deepcopy(track_idx1)\n",
    "    track_idx1 = track_idx2\n",
    "    track_idx2 = track_idx"
   ]
  },
  {
   "cell_type": "code",
   "execution_count": 16,
   "metadata": {
    "id": "y8PSpp64gpZ6"
   },
   "outputs": [],
   "source": [
    "def tune_track(idx):\n",
    "    lowest = track_data.loc[idx]['tuning']\n",
    "    tuning = standard_tuning.copy()\n",
    "    if lowest <= MIDI['B1']:\n",
    "        tuning[7] = MIDI['B1']\n",
    "        decrease = MIDI['B1'] - lowest\n",
    "    else:\n",
    "        decrease = MIDI['E2'] - lowest\n",
    "    return {k: v - decrease for k, v in tuning.items()}\n",
    "\n",
    "new_track_tuning1 = tune_track(track_idx1)\n",
    "new_track_tuning2 = tune_track(track_idx2)"
   ]
  },
  {
   "cell_type": "markdown",
   "metadata": {
    "id": "GU4Q2cbthM01"
   },
   "source": [
    "# Downloading the track"
   ]
  },
  {
   "cell_type": "code",
   "execution_count": null,
   "metadata": {
    "id": "JLHm_XQs6BiA",
    "scrolled": true
   },
   "outputs": [],
   "source": [
    "tempo = track_data.loc[track_idx1]['tempo']\n",
    "instrument = track_data.loc[track_idx1]['instrument']\n",
    "name = track_data.loc[track_idx1]['song']\n",
    "\n",
    "songWriter = Song(tempo)\n",
    "songWriter.process_track(new_track1, new_track_tuning1, instrument=instrument, name=name)"
   ]
  },
  {
   "cell_type": "code",
   "execution_count": 67,
   "metadata": {
    "id": "rIW2XmQwvTbQ"
   },
   "outputs": [],
   "source": [
    "tempo = track_data.loc[track_idx2]['tempo']\n",
    "instrument = track_data.loc[track_idx2]['instrument']\n",
    "name = track_data.loc[track_idx2]['song']\n",
    "\n",
    "songWriter.process_track(new_track2, new_track_tuning2, instrument=instrument, name=name)"
   ]
  },
  {
   "cell_type": "code",
   "execution_count": 68,
   "metadata": {
    "id": "hTc2QMWdyE_j"
   },
   "outputs": [],
   "source": [
    "songWriter.write('generation58.gp5')"
   ]
  }
 ],
 "metadata": {
  "accelerator": "GPU",
  "colab": {
   "gpuType": "T4",
   "provenance": []
  },
  "kernelspec": {
   "display_name": "Python 3 (ipykernel)",
   "language": "python",
   "name": "python3"
  },
  "language_info": {
   "codemirror_mode": {
    "name": "ipython",
    "version": 3
   },
   "file_extension": ".py",
   "mimetype": "text/x-python",
   "name": "python",
   "nbconvert_exporter": "python",
   "pygments_lexer": "ipython3",
   "version": "3.8.10"
  }
 },
 "nbformat": 4,
 "nbformat_minor": 4
}
